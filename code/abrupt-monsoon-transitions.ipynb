{
 "cells": [
  {
   "cell_type": "code",
   "execution_count": 17,
   "id": "precise-lancaster",
   "metadata": {},
   "outputs": [],
   "source": [
    "import yaml\n",
    "from matplotlib import pyplot as plt\n",
    "from ipywidgets import interact, interactive, fixed, interact_manual\n",
    "import numpy as np\n",
    "\n",
    "conf = yaml.safe_load(open(\"conf.yaml\"))\n",
    "plt.style.use(conf[\"plot_style\"])"
   ]
  },
  {
   "cell_type": "code",
   "execution_count": 18,
   "id": "broken-guest",
   "metadata": {},
   "outputs": [],
   "source": [
    "# Free parameters\n",
    "T_O = 290 # K\n",
    "q_O = 0.008\n",
    "alpha = 0.5 # m/s/K\n",
    "beta = 0.025 # kg/m^2/s\n",
    "L, H = 500 * 1000, 10 * 1000 # m\n",
    "epsilon = H / L\n",
    "E = 0.8\n",
    "A = 0.1\n",
    "A_veg = 0.1\n",
    "A_desert = 0.3\n",
    "gamma = 0.5 * 10**(4) # 1/(kg/m^2/s)\n",
    "\n",
    "# Fixed parameters\n",
    "L_c = 2.6 * 10**6 # J/kg\n",
    "C_p = 1295 # J/m^3/K\n",
    "rho = 1.3 # kg/m^3\n",
    "sigma = 5.67 * 10**(-8) # W/m^2/K^4\n",
    "\n",
    "# Reference parameters\n",
    "I_now = 440 # W/m^2\n",
    "I_past = 460 # W/m^2"
   ]
  },
  {
   "cell_type": "code",
   "execution_count": 19,
   "id": "addressed-victim",
   "metadata": {},
   "outputs": [
    {
     "name": "stdout",
     "output_type": "stream",
     "text": [
      "Parameter l: 10.86\n"
     ]
    }
   ],
   "source": [
    "l = epsilon * alpha * rho**2 * L_c * q_O / (C_p * beta)\n",
    "print(f\"Parameter l: {l:.2f}\")"
   ]
  },
  {
   "cell_type": "code",
   "execution_count": 32,
   "id": "motivated-reserve",
   "metadata": {
    "scrolled": false
   },
   "outputs": [
    {
     "data": {
      "application/vnd.jupyter.widget-view+json": {
       "model_id": "ec4919900c6f4206a617833bc3b9384b",
       "version_major": 2,
       "version_minor": 0
      },
      "text/plain": [
       "interactive(children=(FloatSlider(value=0.1, description='A', max=0.30000000000000004, min=-0.1), FloatSlider(…"
      ]
     },
     "metadata": {},
     "output_type": "display_data"
    }
   ],
   "source": [
    "@interact()\n",
    "def plot_graphs(A=A, E=E, T_O=T_O, q_O=q_O, alpha=alpha, beta=beta, epsilon=epsilon, albedo_feedback=True):\n",
    "\n",
    "    def P(W):\n",
    "        return beta * q_O * W / (W + beta / (epsilon * rho))\n",
    "    \n",
    "    def A_W(W):\n",
    "        if not albedo_feedback:\n",
    "            return A * np.ones(len(W))\n",
    "        else:\n",
    "            return np.maximum(A_veg, np.minimum(A_desert - gamma * P(W) * (A_desert - A_veg), A_desert))\n",
    "    \n",
    "    def R(W):\n",
    "        return (1 - A_W(W)) * I_now - E * sigma * (T_O + W / alpha)**4 \n",
    "    \n",
    "    def I_out(W):\n",
    "        return (E * sigma * (T_O + W / alpha)**4 \n",
    "                + epsilon * C_p * W**2 / alpha \n",
    "                - L_c * beta * q_O / (1 + beta / (epsilon * rho * W)) / \n",
    "                (1 - A_W(W)))\n",
    "    W_max = 4\n",
    "    W = np.linspace(0.001, W_max, 50)\n",
    "    \n",
    "    fig, axes = plt.subplots(nrows=2, ncols=2, figsize=(6.5,4.5), sharex=True)\n",
    "    axes = axes.flat\n",
    "    \n",
    "    ax = axes[0]\n",
    "    ax.plot(W, I_out(W), c=\"orange\")\n",
    "    #ax.set_xlabel(r\"wind speed $W \\,(\\mathrm{m/s})$\")\n",
    "    ax.set_ylabel(r\"outgoing radiation $I \\,(\\mathrm{W/m^2})$\")\n",
    "    ax.set_ylim([0, None])\n",
    "    ax.axhline(y=I_past, ls=\"--\", c=\"grey\")\n",
    "    ax.axhline(y=I_now, ls=\"--\", c=\"black\")\n",
    "    ax.grid()\n",
    "    \n",
    "    ax = axes[1]\n",
    "    ax.plot(W, 1000 * P(W), c=\"b\")\n",
    "    #ax.set_xlabel(r\"wind speed $W \\,(\\mathrm{m/s})$\")\n",
    "    ax.set_ylabel(r\"precipitation $P \\,(\\mathrm{g/m^2/s})$\")\n",
    "    ax.set_ylim([0, None])\n",
    "    ax.grid()\n",
    "    \n",
    "    ax = axes[2]\n",
    "    ax.plot(W, A_W(W), c=\"g\")\n",
    "    ax.set_xlabel(r\"wind speed $W \\,(\\mathrm{m/s})$\")\n",
    "    ax.set_ylabel(r\"albedo\")\n",
    "    ax.set_ylim([0, 0.5])\n",
    "    ax.grid()\n",
    "    \n",
    "    ax = axes[3]\n",
    "    ax.plot(W, R(W), c=\"red\")\n",
    "    ax.set_xlabel(r\"wind speed $W \\,(\\mathrm{m/s})$\")\n",
    "    ax.set_ylabel(r\"net radiation $R \\,(\\mathrm{W/m^2})$\")\n",
    "    #ax.set_ylim([-500, -100])\n",
    "    ax.grid()\n",
    "    \n",
    "    fig.tight_layout()\n"
   ]
  }
 ],
 "metadata": {
  "@webio": {
   "lastCommId": null,
   "lastKernelId": null
  },
  "kernelspec": {
   "display_name": "Python 3",
   "language": "python",
   "name": "python3"
  },
  "language_info": {
   "codemirror_mode": {
    "name": "ipython",
    "version": 3
   },
   "file_extension": ".py",
   "mimetype": "text/x-python",
   "name": "python",
   "nbconvert_exporter": "python",
   "pygments_lexer": "ipython3",
   "version": "3.7.9"
  },
  "toc": {
   "base_numbering": 1,
   "nav_menu": {},
   "number_sections": true,
   "sideBar": true,
   "skip_h1_title": false,
   "title_cell": "Table of Contents",
   "title_sidebar": "Contents",
   "toc_cell": false,
   "toc_position": {},
   "toc_section_display": true,
   "toc_window_display": false
  }
 },
 "nbformat": 4,
 "nbformat_minor": 5
}
